{
 "cells": [
  {
   "cell_type": "markdown",
   "metadata": {},
   "source": [
    "# Utils"
   ]
  },
  {
   "cell_type": "code",
   "execution_count": 1,
   "metadata": {},
   "outputs": [],
   "source": [
    "from scripts import utils\n",
    "from scripts import metrics\n",
    "from scripts import inference_model\n",
    "from tqdm.notebook import tqdm"
   ]
  },
  {
   "cell_type": "code",
   "execution_count": 2,
   "metadata": {},
   "outputs": [],
   "source": [
    "DATASET_NAME = 'rcp-meetings/rudialogsum_v2'"
   ]
  },
  {
   "cell_type": "markdown",
   "metadata": {},
   "source": [
    "## MTSAIR_Cotype_Nano_inference"
   ]
  },
  {
   "cell_type": "code",
   "execution_count": 6,
   "metadata": {},
   "outputs": [],
   "source": [
    "MODEL_NAME = \"MTSAIR/Cotype-Nano\""
   ]
  },
  {
   "cell_type": "code",
   "execution_count": 4,
   "metadata": {},
   "outputs": [],
   "source": [
    "data = utils.get_dataset(DATASET_NAME)['train']"
   ]
  },
  {
   "cell_type": "code",
   "execution_count": 7,
   "metadata": {},
   "outputs": [],
   "source": [
    "pipe = utils.get_model_pipeline(MODEL_NAME)"
   ]
  },
  {
   "cell_type": "markdown",
   "metadata": {},
   "source": [
    "### zero_shot"
   ]
  },
  {
   "cell_type": "code",
   "execution_count": null,
   "metadata": {},
   "outputs": [],
   "source": [
    "infer_dict = {}\n",
    "\n",
    "for idx, text in tqdm(enumerate(data)):\n",
    "    messages = [\n",
    "        {\"role\": \"system\", \"content\": \"Реши задачу по инструкции ниже. Не давай никаких объяснений и пояснений к своему ответу. Инструкция: суммаризируй диалог до одного двух предложений.\"},\n",
    "        {\"role\": \"user\", \"content\": text['dialog']}\n",
    "        ]\n",
    "    pred = inference_model.get_predicts_hf(pipe, messages)\n",
    "    infer_dict[idx] = pred"
   ]
  },
  {
   "cell_type": "code",
   "execution_count": 8,
   "metadata": {},
   "outputs": [],
   "source": [
    "utils.save_json(infer_dict, './DATA/MTSAIR_Cotype_Nano_inference/pred_zero_shot.json')"
   ]
  },
  {
   "cell_type": "markdown",
   "metadata": {},
   "source": [
    "### one_shot"
   ]
  },
  {
   "cell_type": "code",
   "execution_count": null,
   "metadata": {},
   "outputs": [
    {
     "data": {
      "application/vnd.jupyter.widget-view+json": {
       "model_id": "993aa9d271de443295f4569be00da92b",
       "version_major": 2,
       "version_minor": 0
      },
      "text/plain": [
       "0it [00:00, ?it/s]"
      ]
     },
     "metadata": {},
     "output_type": "display_data"
    }
   ],
   "source": [
    "example_indices_full = [30]\n",
    "\n",
    "infer_dict = {}\n",
    "\n",
    "for idx, text in tqdm(enumerate(data)):\n",
    "    one_shot_prompt = utils.make_prompt(data, example_indices_full, idx)\n",
    "    messages = [\n",
    "        {\"role\": \"system\", \"content\": \"Ты ИИ-помощник. Инструкция: суммаризируй диалог до одного двух предложений.\"},\n",
    "        {\"role\": \"user\", \"content\": one_shot_prompt}\n",
    "        ]\n",
    "    pred = inference_model.get_predicts_hf(pipe, messages)\n",
    "    infer_dict[idx] = pred"
   ]
  },
  {
   "cell_type": "code",
   "execution_count": 10,
   "metadata": {},
   "outputs": [],
   "source": [
    "utils.save_json(infer_dict, './DATA/MTSAIR_Cotype_Nano_inference/pred_one_shot.json')"
   ]
  },
  {
   "cell_type": "markdown",
   "metadata": {},
   "source": [
    "## T_lite_it_1.0_Q8_0_GGUF"
   ]
  },
  {
   "cell_type": "code",
   "execution_count": 3,
   "metadata": {},
   "outputs": [],
   "source": [
    "MODEL_NAME = \"hf.co/t-tech/T-lite-it-1.0-Q8_0-GGUF:Q8_0\""
   ]
  },
  {
   "cell_type": "code",
   "execution_count": 4,
   "metadata": {},
   "outputs": [],
   "source": [
    "data = utils.get_dataset(DATASET_NAME)['train']"
   ]
  },
  {
   "cell_type": "markdown",
   "metadata": {},
   "source": [
    "### one_shot"
   ]
  },
  {
   "cell_type": "code",
   "execution_count": 5,
   "metadata": {},
   "outputs": [
    {
     "data": {
      "application/vnd.jupyter.widget-view+json": {
       "model_id": "477cc2ff269947c2865fa6e4df84c2b1",
       "version_major": 2,
       "version_minor": 0
      },
      "text/plain": [
       "0it [00:00, ?it/s]"
      ]
     },
     "metadata": {},
     "output_type": "display_data"
    }
   ],
   "source": [
    "example_indices_full = [30]\n",
    "\n",
    "infer_dict = {}\n",
    "\n",
    "for idx, text in tqdm(enumerate(data)):\n",
    "    one_shot_prompt = utils.make_prompt(data, example_indices_full, idx)\n",
    "    messages = [\n",
    "        {\"role\": \"system\", \"content\": \"Ты ИИ-помощник. Тебе даны два диалога, первый написан как пример, а второй нужно сократить до двух предложений. Не пиши ничего лишнего, только сокращенный текст.\"},\n",
    "        {\"role\": \"user\", \"content\": one_shot_prompt}\n",
    "        ]\n",
    "    pred = inference_model.get_predicts_ollama(MODEL_NAME, messages)\n",
    "    infer_dict[idx] = pred"
   ]
  },
  {
   "cell_type": "code",
   "execution_count": 6,
   "metadata": {},
   "outputs": [],
   "source": [
    "utils.save_json(infer_dict, './DATA/T_lite_it_1.0_Q8_0_GGUF/pred_one_shot.json')"
   ]
  },
  {
   "cell_type": "markdown",
   "metadata": {},
   "source": [
    "## T_pro_it_1.0_Q4_K_M_GGUF"
   ]
  },
  {
   "cell_type": "code",
   "execution_count": null,
   "metadata": {},
   "outputs": [],
   "source": [
    "MODEL_NAME = \"hf.co/t-tech/T-pro-it-1.0-Q4_K_M-GGUF:latest\""
   ]
  },
  {
   "cell_type": "code",
   "execution_count": null,
   "metadata": {},
   "outputs": [],
   "source": [
    "data = utils.get_dataset(DATASET_NAME)['train']"
   ]
  },
  {
   "cell_type": "markdown",
   "metadata": {},
   "source": [
    "### one shot"
   ]
  },
  {
   "cell_type": "code",
   "execution_count": null,
   "metadata": {},
   "outputs": [],
   "source": [
    "example_indices_full = [30]\n",
    "\n",
    "infer_dict = {}\n",
    "\n",
    "for idx, text in tqdm(enumerate(data)):\n",
    "    one_shot_prompt = utils.make_prompt(data, example_indices_full, idx)\n",
    "    messages = [\n",
    "        {\"role\": \"system\", \"content\": \"Ты ИИ-помощник. Тебе даны два диалога, первый написан как пример, а второй нужно сократить до двух предложений. Не пиши ничего лишнего, только сокращенный текст.\"},\n",
    "        {\"role\": \"user\", \"content\": one_shot_prompt}\n",
    "        ]\n",
    "    pred = inference_model.get_predicts_ollama(MODEL_NAME, messages)\n",
    "    infer_dict[idx] = pred"
   ]
  },
  {
   "cell_type": "code",
   "execution_count": null,
   "metadata": {},
   "outputs": [],
   "source": [
    "utils.save_json(infer_dict, './DATA/T_lite_it_1.0_Q8_0_GGUF/pred_one_shot.json')"
   ]
  },
  {
   "cell_type": "markdown",
   "metadata": {},
   "source": [
    "# Metrics"
   ]
  },
  {
   "cell_type": "code",
   "execution_count": 32,
   "metadata": {},
   "outputs": [],
   "source": [
    "data = utils.get_dataset(DATASET_NAME)['train']\n",
    "preds = utils.load_json('./DATA/T_pro_it_1.0_Q4_K_M_GGUF/pred_one_shot.json')\n",
    "preds = [preds[str(idx)] for idx in range(len(preds))]"
   ]
  },
  {
   "cell_type": "code",
   "execution_count": 26,
   "metadata": {},
   "outputs": [
    {
     "name": "stderr",
     "output_type": "stream",
     "text": [
      "[nltk_data] Downloading package wordnet to\n",
      "[nltk_data]     C:\\Users\\wzakh\\AppData\\Roaming\\nltk_data...\n",
      "[nltk_data]   Package wordnet is already up-to-date!\n",
      "[nltk_data] Downloading package punkt_tab to\n",
      "[nltk_data]     C:\\Users\\wzakh\\AppData\\Roaming\\nltk_data...\n",
      "[nltk_data]   Package punkt_tab is already up-to-date!\n",
      "[nltk_data] Downloading package omw-1.4 to\n",
      "[nltk_data]     C:\\Users\\wzakh\\AppData\\Roaming\\nltk_data...\n",
      "[nltk_data]   Package omw-1.4 is already up-to-date!\n"
     ]
    },
    {
     "name": "stdout",
     "output_type": "stream",
     "text": [
      "Computing metrics...\n",
      "Rouge computed\n",
      "Bleu computed\n",
      "Meteor computed\n"
     ]
    },
    {
     "name": "stderr",
     "output_type": "stream",
     "text": [
      "c:\\Programs\\Anaconda\\envs\\NLP\\lib\\site-packages\\transformers\\models\\bert\\modeling_bert.py:440: UserWarning: 1Torch was not compiled with flash attention. (Triggered internally at C:\\actions-runner\\_work\\pytorch\\pytorch\\builder\\windows\\pytorch\\aten\\src\\ATen\\native\\transformers\\cuda\\sdp_utils.cpp:555.)\n",
      "  attn_output = torch.nn.functional.scaled_dot_product_attention(\n"
     ]
    },
    {
     "name": "stdout",
     "output_type": "stream",
     "text": [
      "Bertscore computed\n",
      "Metrics computed\n"
     ]
    }
   ],
   "source": [
    "metrics_model = metrics.get_metrics(preds, data['summary'])"
   ]
  },
  {
   "cell_type": "code",
   "execution_count": 27,
   "metadata": {},
   "outputs": [
    {
     "data": {
      "text/plain": [
       "{'rouge1': 0.5692213597093654,\n",
       " 'rouge2': 0.47515858017750734,\n",
       " 'rougeL': 0.5300113575545231,\n",
       " 'rougeLsum': 0.5299346954143009,\n",
       " 'bleu': 0.20037898308333082,\n",
       " 'meteor': 0.3095146176260515,\n",
       " 'bertscore': 0.7710646254675729}"
      ]
     },
     "execution_count": 27,
     "metadata": {},
     "output_type": "execute_result"
    }
   ],
   "source": [
    "metrics_model"
   ]
  },
  {
   "cell_type": "code",
   "execution_count": 16,
   "metadata": {},
   "outputs": [],
   "source": [
    "utils.save_json(metrics_model, './DATA/T_pro_it_1.0_Q4_K_M_GGUF/metrics_one_shot.json')"
   ]
  },
  {
   "cell_type": "markdown",
   "metadata": {},
   "source": [
    "# DATASET inference"
   ]
  },
  {
   "cell_type": "code",
   "execution_count": 3,
   "metadata": {},
   "outputs": [],
   "source": [
    "from ollama import chat\n",
    "from ollama import ChatResponse"
   ]
  },
  {
   "cell_type": "code",
   "execution_count": 4,
   "metadata": {},
   "outputs": [],
   "source": [
    "MODEL_NAME = \"hf.co/t-tech/T-lite-it-1.0-Q8_0-GGUF:Q8_0\""
   ]
  },
  {
   "cell_type": "code",
   "execution_count": 5,
   "metadata": {},
   "outputs": [],
   "source": [
    "data = utils.load_json('./DATASET/DATASET_DIALOG_SUMMARY.json')"
   ]
  },
  {
   "cell_type": "code",
   "execution_count": null,
   "metadata": {},
   "outputs": [],
   "source": [
    "example_indices_full = [0]\n",
    "\n",
    "infer_dict = {}\n",
    "\n",
    "options = {'temperature': 0.1, \n",
    "           'repeat_penalty ': 1.05, \n",
    "           'num_predict': 128, \n",
    "           'top_k': 10, \n",
    "           'top_p': 0.1,\n",
    "           'num_ctx': 8192\n",
    "            }\n",
    "\n",
    "for idx, text in tqdm(enumerate(range(len(data['dialog'])))):\n",
    "    one_shot_prompt = utils.make_prompt_final(data, example_indices_full, idx)\n",
    "    messages = [\n",
    "        {\"role\": \"system\", \"content\": \"Ты ИИ-помощник. Тебе дан пример сокращенного диалога, тебе нужно сократить по такой же схеме диалог. Перепишите текст, сокращая его до ключевых задач и сроков, без добавления лишних комментариев или промежуточных вариантов. Только итоговые задачи и сроки.\"},\n",
    "        {\"role\": \"user\", \"content\": one_shot_prompt}\n",
    "        ]\n",
    "    res: ChatResponse = chat(MODEL_NAME, messages, options=options)\n",
    "    pred = res['message']['content']\n",
    "    infer_dict[idx] = pred\n",
    "    print(10*'-', idx, 10*'-')\n",
    "    print(pred)"
   ]
  },
  {
   "cell_type": "markdown",
   "metadata": {},
   "source": [
    "## zero"
   ]
  },
  {
   "cell_type": "code",
   "execution_count": 16,
   "metadata": {},
   "outputs": [
    {
     "data": {
      "application/vnd.jupyter.widget-view+json": {
       "model_id": "dcbe5c9744ca4c4cb82b2b1228ec9abb",
       "version_major": 2,
       "version_minor": 0
      },
      "text/plain": [
       "0it [00:00, ?it/s]"
      ]
     },
     "metadata": {},
     "output_type": "display_data"
    },
    {
     "name": "stderr",
     "output_type": "stream",
     "text": [
      "c:\\Programs\\Anaconda\\envs\\NLP\\lib\\site-packages\\transformers\\models\\qwen2\\modeling_qwen2.py:544: UserWarning: 1Torch was not compiled with flash attention. (Triggered internally at C:\\actions-runner\\_work\\pytorch\\pytorch\\builder\\windows\\pytorch\\aten\\src\\ATen\\native\\transformers\\cuda\\sdp_utils.cpp:555.)\n",
      "  attn_output = torch.nn.functional.scaled_dot_product_attention(\n",
      "You seem to be using the pipelines sequentially on GPU. In order to maximize efficiency please use a dataset\n"
     ]
    }
   ],
   "source": [
    "infer_dict = {}\n",
    "\n",
    "for idx, text in tqdm(enumerate(data['dialog'])):\n",
    "    messages = [\n",
    "        {\"role\": \"system\", \"content\": \"Реши задачу по инструкции ниже. Не давай никаких объяснений и пояснений к своему ответу. Инструкция: суммаризируй диалог до одного двух предложений. В твоем сокращенном тексте обязательно должны быть слова Имя работника, задача и срок\"},\n",
    "        {\"role\": \"user\", \"content\": text}\n",
    "        ]\n",
    "    pred = inference_model.get_predicts_hf(pipe, messages)\n",
    "    infer_dict[idx] = pred"
   ]
  },
  {
   "cell_type": "code",
   "execution_count": 17,
   "metadata": {},
   "outputs": [],
   "source": [
    "infer_dict['prompt'] = messages\n",
    "infer_dict['options'] = options"
   ]
  },
  {
   "cell_type": "code",
   "execution_count": 18,
   "metadata": {},
   "outputs": [],
   "source": [
    "utils.save_json(infer_dict, './DATASET/predicts/MTSAIR_baseline_0_shot.json')"
   ]
  },
  {
   "cell_type": "markdown",
   "metadata": {},
   "source": [
    "## Metrics for dataset"
   ]
  },
  {
   "cell_type": "code",
   "execution_count": 40,
   "metadata": {},
   "outputs": [],
   "source": [
    "data = utils.load_json('./DATASET/DATASET_DIALOG_SUMMARY.json')\n",
    "# preds = utils.load_json('./DATASET/predicts/pred_one_shot_prompt_6.json')\n",
    "preds = utils.load_json('./DATASET/predicts/pred_one_shot_prompt_6.json')\n",
    "preds = [preds[str(idx)] for idx in range(len(data['summary']))]"
   ]
  },
  {
   "cell_type": "code",
   "execution_count": 41,
   "metadata": {},
   "outputs": [
    {
     "name": "stderr",
     "output_type": "stream",
     "text": [
      "[nltk_data] Downloading package wordnet to\n",
      "[nltk_data]     C:\\Users\\wzakh\\AppData\\Roaming\\nltk_data...\n",
      "[nltk_data]   Package wordnet is already up-to-date!\n",
      "[nltk_data] Downloading package punkt_tab to\n",
      "[nltk_data]     C:\\Users\\wzakh\\AppData\\Roaming\\nltk_data...\n",
      "[nltk_data]   Package punkt_tab is already up-to-date!\n",
      "[nltk_data] Downloading package omw-1.4 to\n",
      "[nltk_data]     C:\\Users\\wzakh\\AppData\\Roaming\\nltk_data...\n",
      "[nltk_data]   Package omw-1.4 is already up-to-date!\n"
     ]
    },
    {
     "name": "stdout",
     "output_type": "stream",
     "text": [
      "Computing metrics...\n",
      "Rouge computed\n",
      "Bleu computed\n",
      "Meteor computed\n",
      "Bertscore computed\n",
      "Metrics computed\n"
     ]
    }
   ],
   "source": [
    "metrics_model = metrics.get_metrics(preds, data['summary'])"
   ]
  },
  {
   "cell_type": "code",
   "execution_count": 42,
   "metadata": {},
   "outputs": [
    {
     "data": {
      "text/plain": [
       "{'rouge1': 0.3028883237974147,\n",
       " 'rouge2': 0.053076216712580344,\n",
       " 'rougeL': 0.29801511619693444,\n",
       " 'rougeLsum': 0.29615031433213246,\n",
       " 'bleu': 0.1224587029087121,\n",
       " 'meteor': 0.34353822270330925,\n",
       " 'bertscore': 0.7570874430916527}"
      ]
     },
     "execution_count": 42,
     "metadata": {},
     "output_type": "execute_result"
    }
   ],
   "source": [
    "metrics_model"
   ]
  },
  {
   "cell_type": "code",
   "execution_count": 43,
   "metadata": {},
   "outputs": [],
   "source": [
    "utils.save_json(metrics_model, './DATASET/scores/pred_one_shot_prompt_6.json')"
   ]
  }
 ],
 "metadata": {
  "kernelspec": {
   "display_name": "NLP",
   "language": "python",
   "name": "python3"
  },
  "language_info": {
   "codemirror_mode": {
    "name": "ipython",
    "version": 3
   },
   "file_extension": ".py",
   "mimetype": "text/x-python",
   "name": "python",
   "nbconvert_exporter": "python",
   "pygments_lexer": "ipython3",
   "version": "3.10.15"
  }
 },
 "nbformat": 4,
 "nbformat_minor": 2
}
